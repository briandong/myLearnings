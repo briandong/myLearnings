{
 "cells": [
  {
   "cell_type": "markdown",
   "metadata": {},
   "source": [
    "# Python Advanced\n",
    "\n",
    "## Class\n",
    "\n",
    "### 类属性\n",
    "\n",
    "类的属性不属于任何一个实例，而是属于这个类。"
   ]
  },
  {
   "cell_type": "code",
   "execution_count": 5,
   "metadata": {},
   "outputs": [],
   "source": [
    "class Animal:\n",
    "    count = 0\n",
    "    def __init__(self, name, age):\n",
    "        self.name = name\n",
    "        self.age = age\n",
    "        Animal.count += 1 #类属性"
   ]
  },
  {
   "cell_type": "markdown",
   "metadata": {},
   "source": [
    "所有实例都可以访问类的属性，并且，所有实例访问的类属性都是同一个！"
   ]
  },
  {
   "cell_type": "code",
   "execution_count": 7,
   "metadata": {},
   "outputs": [
    {
     "name": "stdout",
     "output_type": "stream",
     "text": [
      "4\n",
      "4\n",
      "4\n"
     ]
    }
   ],
   "source": [
    "cat = Animal(\"garfield\", 3)\n",
    "dog = Animal(\"snoopy\", 4)\n",
    "\n",
    "print(cat.count)\n",
    "print(dog.count)\n",
    "print(Animal.count)"
   ]
  },
  {
   "cell_type": "markdown",
   "metadata": {},
   "source": [
    "类属性是可以通过类动态添加和修改的。因为类属性只有一份，所以改变了，所有实例可以访问到的类属性都会变更。"
   ]
  },
  {
   "cell_type": "code",
   "execution_count": 10,
   "metadata": {},
   "outputs": [
    {
     "name": "stdout",
     "output_type": "stream",
     "text": [
      "20\n",
      "10\n",
      "10\n"
     ]
    }
   ],
   "source": [
    "Animal.count = 10\n",
    "print(cat.count)\n",
    "print(dog.count)\n",
    "print(Animal.count)"
   ]
  },
  {
   "cell_type": "markdown",
   "metadata": {},
   "source": [
    "通过实例是无法修改类的属性的。事实上，通过实例方法修改类属性，只是给实例绑定了一个对应的实例属性。"
   ]
  },
  {
   "cell_type": "code",
   "execution_count": 11,
   "metadata": {},
   "outputs": [
    {
     "name": "stdout",
     "output_type": "stream",
     "text": [
      "20\n",
      "10\n",
      "10\n"
     ]
    }
   ],
   "source": [
    "cat.count = 20\n",
    "print(cat.count)\n",
    "print(dog.count)\n",
    "print(Animal.count)"
   ]
  },
  {
   "cell_type": "markdown",
   "metadata": {},
   "source": [
    "在类属性和实例属性同时存在的情况下，实例属性的优先级是要高于类属性的。"
   ]
  },
  {
   "cell_type": "code",
   "execution_count": null,
   "metadata": {},
   "outputs": [],
   "source": []
  }
 ],
 "metadata": {
  "kernelspec": {
   "display_name": "Python 3",
   "language": "python",
   "name": "python3"
  },
  "language_info": {
   "codemirror_mode": {
    "name": "ipython",
    "version": 3
   },
   "file_extension": ".py",
   "mimetype": "text/x-python",
   "name": "python",
   "nbconvert_exporter": "python",
   "pygments_lexer": "ipython3",
   "version": "3.8.3"
  }
 },
 "nbformat": 4,
 "nbformat_minor": 4
}
